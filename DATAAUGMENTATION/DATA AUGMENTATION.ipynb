{
 "cells": [
  {
   "cell_type": "code",
   "execution_count": 11,
   "id": "56878cfd",
   "metadata": {
    "scrolled": false
   },
   "outputs": [],
   "source": [
    "import os\n",
    "from keras.preprocessing.image import ImageDataGenerator\n",
    "from tensorflow.keras.utils import img_to_array, load_img\n",
    "\n",
    "save_dir = r\"C:\\Users\\chetan\\DEEP LEARNING\\DATAAUGMENTATION\\ImgGenOutput\"\n",
    "if not os.path.exists(save_dir):\n",
    "    os.makedirs(save_dir)\n",
    "\n",
    "# Initialising the ImageDataGenerator class\n",
    "datagen = ImageDataGenerator(\n",
    "    rotation_range=40,\n",
    "    shear_range=0.2,\n",
    "    zoom_range=0.2,\n",
    "    horizontal_flip=True,\n",
    "    brightness_range=(0.5, 1.5)\n",
    ")\n",
    "\n",
    "# Loading a sample image\n",
    "img = load_img(r\"C:\\Users\\chetan\\DEEP LEARNING\\DATAAUGMENTATION\\kri.jpg\") \n",
    "\n",
    "# Converting the input sample image to an array\n",
    "x = img_to_array(img)\n",
    "\n",
    "# Reshaping the input image\n",
    "x = x.reshape((1,) + x.shape)\n",
    "\n",
    "i = 0\n",
    "for batch in datagen.flow(x, batch_size=1, save_to_dir=save_dir, \n",
    "                          save_prefix='image', save_format='jpeg'):\n",
    "    \n",
    "    i += 1\n",
    "    if i >= 5:\n",
    "        break\n",
    "\n",
    "\n"
   ]
  },
  {
   "cell_type": "code",
   "execution_count": 9,
   "id": "81149d78",
   "metadata": {},
   "outputs": [
    {
     "name": "stdout",
     "output_type": "stream",
     "text": [
      "Collecting Augmentor\n",
      "  Downloading Augmentor-0.2.12-py2.py3-none-any.whl.metadata (1.3 kB)\n",
      "Requirement already satisfied: Pillow>=5.2.0 in c:\\users\\chetan\\anaconda3\\lib\\site-packages (from Augmentor) (10.2.0)\n",
      "Requirement already satisfied: tqdm>=4.9.0 in c:\\users\\chetan\\anaconda3\\lib\\site-packages (from Augmentor) (4.65.0)\n",
      "Requirement already satisfied: numpy>=1.11.0 in c:\\users\\chetan\\anaconda3\\lib\\site-packages (from Augmentor) (1.26.4)\n",
      "Requirement already satisfied: colorama in c:\\users\\chetan\\anaconda3\\lib\\site-packages (from tqdm>=4.9.0->Augmentor) (0.4.6)\n",
      "Downloading Augmentor-0.2.12-py2.py3-none-any.whl (38 kB)\n",
      "Installing collected packages: Augmentor\n",
      "Successfully installed Augmentor-0.2.12\n",
      "Note: you may need to restart the kernel to use updated packages.\n"
     ]
    }
   ],
   "source": [
    "pip install Augmentor"
   ]
  },
  {
   "cell_type": "code",
   "execution_count": 10,
   "id": "69bb13c6",
   "metadata": {},
   "outputs": [
    {
     "name": "stdout",
     "output_type": "stream",
     "text": [
      "Initialised with 1 image(s) found.\n",
      "Output directory set to C:\\Users\\chetan\\DEEP LEARNING\\DATAAUGMENTATION\\output."
     ]
    },
    {
     "name": "stderr",
     "output_type": "stream",
     "text": [
      "Processing <PIL.Image.Image image mode=1 size=850x638 at 0x1D86CB81410>: 100%|█████| 5/5 [00:00<00:00, 24.01 Samples/s]\n"
     ]
    }
   ],
   "source": [
    "# Importing necessary library\n",
    "import Augmentor\n",
    "# Passing the path of the image directory\n",
    "p = Augmentor.Pipeline(r\"C:\\Users\\chetan\\DEEP LEARNING\\DATAAUGMENTATION\")\n",
    "# Defining augmentation parameters and generating 5 samples\n",
    "p.flip_left_right(0.5)\n",
    "p.black_and_white(0.1)\n",
    "p.rotate(0.3, 10, 10)\n",
    "p.skew(0.4, 0.5)\n",
    "p.zoom(probability = 0.2, min_factor = 1.1, max_factor = 1.5)\n",
    "p.sample(5)"
   ]
  },
  {
   "cell_type": "code",
   "execution_count": null,
   "id": "01c9cde7",
   "metadata": {},
   "outputs": [],
   "source": []
  },
  {
   "cell_type": "code",
   "execution_count": null,
   "id": "d5a4c71d",
   "metadata": {},
   "outputs": [],
   "source": []
  }
 ],
 "metadata": {
  "kernelspec": {
   "display_name": "Python 3 (ipykernel)",
   "language": "python",
   "name": "python3"
  },
  "language_info": {
   "codemirror_mode": {
    "name": "ipython",
    "version": 3
   },
   "file_extension": ".py",
   "mimetype": "text/x-python",
   "name": "python",
   "nbconvert_exporter": "python",
   "pygments_lexer": "ipython3",
   "version": "3.11.8"
  }
 },
 "nbformat": 4,
 "nbformat_minor": 5
}
