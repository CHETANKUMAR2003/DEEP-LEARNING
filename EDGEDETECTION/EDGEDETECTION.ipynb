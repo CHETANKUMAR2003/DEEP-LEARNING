{
 "cells": [
  {
   "cell_type": "code",
   "execution_count": 7,
   "id": "fb845adf",
   "metadata": {},
   "outputs": [],
   "source": [
    "from PIL import Image, ImageFilter\n",
    "# Opening the image (R prefixed to string\n",
    "# in order to deal with '\\' in paths)\n",
    "image = Image.open(r\"C:\\Users\\chetan\\DEEP LEARNING\\EDGEDETECTION\\dora.jpg\")\n",
    "# Converting the image to grayscale, as edge detection \n",
    "# requires input image to be of mode = Grayscale (L)\n",
    "image = image.convert(\"L\")\n",
    "# Detecting Edges on the Image using the argument ImageFilter.FIND_EDGES\n",
    "image = image.filter(ImageFilter.FIND_EDGES)\n",
    "# Saving the Image Under the name Edge_Sample.png\n",
    "image.save(r\"Edge_Sample1.png\")"
   ]
  },
  {
   "cell_type": "code",
   "execution_count": 6,
   "id": "74dacd6f",
   "metadata": {},
   "outputs": [],
   "source": [
    "from PIL import Image, ImageFilter\n",
    "img = Image.open(r\"C:\\Users\\chetan\\DEEP LEARNING\\EDGEDETECTION\\dora.jpg\")\n",
    "# Converting the image to grayscale, as Sobel Operator requires\n",
    "# input image to be of mode Grayscale (L)\n",
    "img = img.convert(\"L\")\n",
    "# Calculating Edges using the passed laplacian Kernel\n",
    "final = img.filter(ImageFilter.Kernel((3, 3), (-1, -1, -1, -1, 8,\n",
    " -1, -1, -1, -1), 1, 0))\n",
    "final.save(r\"EDGE_sample2.png\")"
   ]
  },
  {
   "cell_type": "code",
   "execution_count": null,
   "id": "ca202349",
   "metadata": {},
   "outputs": [],
   "source": []
  }
 ],
 "metadata": {
  "kernelspec": {
   "display_name": "Python 3 (ipykernel)",
   "language": "python",
   "name": "python3"
  },
  "language_info": {
   "codemirror_mode": {
    "name": "ipython",
    "version": 3
   },
   "file_extension": ".py",
   "mimetype": "text/x-python",
   "name": "python",
   "nbconvert_exporter": "python",
   "pygments_lexer": "ipython3",
   "version": "3.11.8"
  }
 },
 "nbformat": 4,
 "nbformat_minor": 5
}
