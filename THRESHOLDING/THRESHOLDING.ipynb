{
 "cells": [
  {
   "cell_type": "code",
   "execution_count": null,
   "id": "6df2e2ce",
   "metadata": {},
   "outputs": [],
   "source": [
    "import cv2\n",
    "# Loading the image named test.jpg\n",
    "img = cv2.imread(r\"C:\\Users\\chetan\\DEEP LEARNING\\THRESHOLDING\\ruby.jpg\")\n",
    "\n",
    "# Converting color mode to Grayscale\n",
    "# as thresholding requires a single channeled image\n",
    "img = cv2.cvtColor(img, cv2.COLOR_BGR2GRAY)\n",
    "cv2.imshow('Image', img)\n",
    "cv2.waitKey()"
   ]
  },
  {
   "cell_type": "code",
   "execution_count": null,
   "id": "79385f32",
   "metadata": {},
   "outputs": [],
   "source": [
    "# Thresholding the image placing 127 intensity level as threshold\n",
    "# Pixel values below 127 would be changed to Black\n",
    "# Pixel values above 127 would be changed to White (255)\n",
    "ret, thresh = cv2.threshold(img, 127, 255, cv2.THRESH_BINARY)\n",
    "# Displaying the output image\n",
    "cv2.imshow('Binary Threshold', thresh)\n",
    "cv2.waitKey()"
   ]
  },
  {
   "cell_type": "code",
   "execution_count": 3,
   "id": "7ee99d2d",
   "metadata": {},
   "outputs": [
    {
     "data": {
      "text/plain": [
       "-1"
      ]
     },
     "execution_count": 3,
     "metadata": {},
     "output_type": "execute_result"
    }
   ],
   "source": [
    "ret, thresh = cv2.threshold(img, 127, 255, cv2.THRESH_BINARY_INV)\n",
    "# Displaying the output image\n",
    "cv2.imshow('Binary Inverse Threshold', thresh)\n",
    "cv2.waitKey()"
   ]
  },
  {
   "cell_type": "code",
   "execution_count": null,
   "id": "a7a8afe5",
   "metadata": {},
   "outputs": [],
   "source": [
    "import cv2\n",
    "img = cv2.imread(r\"C:\\Users\\chetan\\DEEP LEARNING\\THRESHOLDING\\ruby.jpg\")\n",
    "ret, thresh = cv2.threshold(img, 127, 255, cv2.THRESH_TRUNC)\n",
    "# Displaying the output image\n",
    "\n",
    "cv2.imshow('Truncate Threshold', thresh)\n",
    "cv2.waitKey()"
   ]
  },
  {
   "cell_type": "code",
   "execution_count": null,
   "id": "890624b2",
   "metadata": {},
   "outputs": [],
   "source": [
    "import cv2\n",
    "img = cv2.imread(r\"C:\\Users\\chetan\\DEEP LEARNING\\THRESHOLDING\\ruby.jpg\")\n",
    "ret, thresh = cv2.threshold(img, 127, 255, cv2.THRESH_TOZERO)\n",
    "# Displaying the output image\n",
    "cv2.imshow('Truncate Threshold', thresh)\n",
    "cv2.waitKey()"
   ]
  },
  {
   "cell_type": "code",
   "execution_count": null,
   "id": "3bdacfe1",
   "metadata": {},
   "outputs": [],
   "source": []
  }
 ],
 "metadata": {
  "kernelspec": {
   "display_name": "Python 3 (ipykernel)",
   "language": "python",
   "name": "python3"
  },
  "language_info": {
   "codemirror_mode": {
    "name": "ipython",
    "version": 3
   },
   "file_extension": ".py",
   "mimetype": "text/x-python",
   "name": "python",
   "nbconvert_exporter": "python",
   "pygments_lexer": "ipython3",
   "version": "3.11.8"
  }
 },
 "nbformat": 4,
 "nbformat_minor": 5
}
